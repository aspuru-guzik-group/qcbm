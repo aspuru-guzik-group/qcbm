{
 "cells": [
  {
   "cell_type": "code",
   "execution_count": 1,
   "metadata": {},
   "outputs": [],
   "source": [
    "from qiskit_ibm_runtime import QiskitRuntimeService"
   ]
  },
  {
   "cell_type": "code",
   "execution_count": 9,
   "metadata": {},
   "outputs": [],
   "source": [
    "API_KEY = \"c5bd29738abd9683d647559a1c9af387f89daf79c68df4c5d7e3ea92344ab2b7aff159ab6e6f47cd324b309c27bef547e5a5194a29b11b438e0d37a0129f122f\""
   ]
  },
  {
   "cell_type": "code",
   "execution_count": 11,
   "metadata": {},
   "outputs": [],
   "source": [
    "service = QiskitRuntimeService(channel=\"ibm_quantum\", token=API_KEY, instance=\"pinq-quebec-hub/univ-toronto/matterlab\")"
   ]
  },
  {
   "cell_type": "code",
   "execution_count": 13,
   "metadata": {},
   "outputs": [],
   "source": [
    "# Save account to disk.\n",
    "QiskitRuntimeService.save_account(\n",
    "    channel=\"ibm_quantum\",\n",
    "    token=API_KEY,\n",
    "    instance=\"pinq-quebec-hub/univ-toronto/matterlab\",\n",
    "    name=\"ibm_uoft\",\n",
    "    # Use `overwrite=True` if you're updating your token.\n",
    "    overwrite=True,\n",
    ")\n",
    "\n",
    "\n"
   ]
  },
  {
   "cell_type": "code",
   "execution_count": 7,
   "metadata": {},
   "outputs": [],
   "source": [
    "# Load saved credentials\n",
    "service = QiskitRuntimeService(name=\"ibm_uoft\")\n",
    "back_end = \"ibm_quebec\""
   ]
  },
  {
   "cell_type": "markdown",
   "metadata": {},
   "source": [
    "# QCBM \n"
   ]
  },
  {
   "cell_type": "code",
   "execution_count": 1,
   "metadata": {},
   "outputs": [],
   "source": [
    "from qiskit import QuantumCircuit, transpile\n",
    "from qiskit.circuit import Parameter\n",
    "import numpy as np\n",
    "\n",
    "class QCBMAnsatz:\n",
    "    def __init__(self, num_qubits, depth):\n",
    "        self.num_qubits = num_qubits\n",
    "        self.depth = depth\n",
    "        self.params = [Parameter(f'theta_{i}') for i in range(num_qubits * depth)]\n",
    "        self.qc = QuantumCircuit(num_qubits, num_qubits)  # Add classical bits\n",
    "        self._build_circuit()\n",
    "\n",
    "    def _build_circuit(self):\n",
    "        param_idx = 0\n",
    "        for _ in range(self.depth):\n",
    "            for qubit in range(self.num_qubits):\n",
    "                self.qc.ry(self.params[param_idx], qubit)\n",
    "                param_idx += 1\n",
    "            for qubit in range(self.num_qubits - 1):\n",
    "                self.qc.cx(qubit, qubit + 1)\n",
    "        self.qc.measure(range(self.num_qubits), range(self.num_qubits))  # Add measurements\n",
    "\n",
    "    def get_executable_circuit(self, parameters, backend):\n",
    "        param_dict = {self.params[i]: parameters[i] for i in range(len(self.params))}\n",
    "        qc_copy = self.qc.copy()\n",
    "        qc_copy.assign_parameters(param_dict, inplace=True)\n",
    "        # Transpile the circuit for the specific backend\n",
    "        transpiled_circuit = transpile(qc_copy, backend=backend)\n",
    "        return transpiled_circuit\n"
   ]
  },
  {
   "cell_type": "code",
   "execution_count": 2,
   "metadata": {},
   "outputs": [],
   "source": [
    "from scipy.optimize import minimize\n",
    "\n",
    "class ScipyOptimizer:\n",
    "    def __init__(self, method='COBYLA', options=None):\n",
    "        self.method = method\n",
    "        self.options = options if options else {}\n",
    "\n",
    "    def minimize(self, loss_fn, initial_params):\n",
    "        result = minimize(loss_fn, initial_params, method=self.method, options=self.options)\n",
    "        return result\n"
   ]
  },
  {
   "cell_type": "code",
   "execution_count": 5,
   "metadata": {},
   "outputs": [
    {
     "name": "stderr",
     "output_type": "stream",
     "text": [
      "/var/folders/01/9cxlhzln35j3j4d6wdv8jmmw0000gp/T/ipykernel_11117/1503305846.py:91: DeprecationWarning: The Sampler and Estimator V1 primitives have been deprecated as of qiskit-ibm-runtime 0.23.0 and will be removed no sooner than 3 months after the release date. Please use the V2 Primitives. See the `V2 migration guide <https://docs.quantum.ibm.com/api/migration-guides/v2-primitives>`_. for more details\n",
      "  sampler = Sampler(session=session)\n"
     ]
    },
    {
     "name": "stdout",
     "output_type": "stream",
     "text": [
      "\n",
      "   Return from subroutine COBYLA because the MAXFUN limit has been reached.\n",
      "\n",
      "   NFVALS =    1   F = 4.295104E+00    MAXCV = 0.000000E+00\n",
      "   X =-1.548493E+00  -3.167899E-02  -1.243793E+00   2.935643E-01  -3.371391E-01\n",
      "       9.544549E-01\n",
      "Sample: [0 0 0], Probability: 0.468\n",
      "Sample: [0 0 1], Probability: 0.275\n",
      "Sample: [0 1 0], Probability: 0.002\n",
      "Sample: [0 1 1], Probability: 0.007\n",
      "Sample: [1 0 0], Probability: 0.011\n",
      "Sample: [1 0 1], Probability: 0.087\n",
      "Sample: [1 1 0], Probability: 0.064\n",
      "Sample: [1 1 1], Probability: 0.082\n"
     ]
    }
   ],
   "source": [
    "from qiskit_ibm_runtime import QiskitRuntimeService, Session, Sampler\n",
    "import numpy as np\n",
    "\n",
    "class SingleBasisQCBM:\n",
    "    def __init__(self, ansatz, optimizer, distance_measure=None, choices=(-1.0, 1.0), param_initializer=None):\n",
    "        self.ansatz = ansatz\n",
    "        self.optimizer = optimizer\n",
    "        self.num_qubits = ansatz.num_qubits\n",
    "        self.distance_measure = distance_measure if distance_measure else self._default_distance_measure\n",
    "        self.choices = choices\n",
    "        self.params = self._get_initial_parameters(param_initializer)\n",
    "\n",
    "    def _default_distance_measure(self, target_probs, model_probs):\n",
    "        epsilon = 1e-10\n",
    "        return np.sum(target_probs * np.log(target_probs / (model_probs + epsilon) + epsilon))\n",
    "\n",
    "    def _get_initial_parameters(self, initializer):\n",
    "        if initializer:\n",
    "            return initializer(self.ansatz.num_qubits * self.ansatz.depth)\n",
    "        return np.random.uniform(-np.pi / 2, np.pi / 2, self.ansatz.num_qubits * self.ansatz.depth)\n",
    "\n",
    "    def _get_model_object(self, parameters, sampler, backend):\n",
    "        qc = self.ansatz.get_executable_circuit(parameters, backend)\n",
    "        job = sampler.run(circuits=[qc])\n",
    "        result = job.result()\n",
    "        quasi_dist = result.quasi_dists[0]\n",
    "        counts = quasi_dist.binary_probabilities()\n",
    "        shots = sum(counts.values())\n",
    "        probs = np.array([counts.get(f\"{i:0{self.num_qubits}b}\", 0) / shots for i in range(2**self.num_qubits)])\n",
    "        return probs\n",
    "\n",
    "    def _get_generator_fn(self, sampler, backend, random_seed=None):\n",
    "        def generator(n_samples, parameters):\n",
    "            qc = self.ansatz.get_executable_circuit(parameters, backend)\n",
    "            job = sampler.run(circuits=[qc])\n",
    "            result = job.result()\n",
    "            quasi_dist = result.quasi_dists[0]\n",
    "            counts = quasi_dist.binary_probabilities()\n",
    "            samples = np.array([list(map(int, k)) for k, v in counts.items() for _ in range(int(v * n_samples))])\n",
    "            return samples\n",
    "        return generator\n",
    "\n",
    "    def train_on_batch(self, X, Y, sampler, backend, n_epochs):\n",
    "        target_probs = np.zeros(2**self.num_qubits)\n",
    "        for x, y in zip(X, Y):\n",
    "            index = int(\"\".join(map(str, x)), 2)\n",
    "            target_probs[index] = y\n",
    "\n",
    "        for epoch in range(n_epochs):\n",
    "            def loss_fn(parameters):\n",
    "                model_probs = self._get_model_object(parameters, sampler, backend)\n",
    "                return self.distance_measure(target_probs, model_probs)\n",
    "\n",
    "            result = self.optimizer.minimize(loss_fn, self.params)\n",
    "            self.params = result.x\n",
    "        return result\n",
    "\n",
    "    def generate(self, num_samples, sampler, backend):\n",
    "        generator = self._get_generator_fn(sampler, backend)\n",
    "        samples = generator(num_samples, self.params)\n",
    "        unique_samples, counts = np.unique(samples, axis=0, return_counts=True)\n",
    "        probabilities = counts / num_samples\n",
    "        return unique_samples, probabilities\n",
    "\n",
    "# Define an example of creating and training a SingleBasisQCBM\n",
    "# Initialize Qiskit Runtime Service with specific credentials\n",
    "service = QiskitRuntimeService(name=\"ibm_uoft\")\n",
    "backend = service.backend(\"ibm_quebec\")  # Using IBM Quebec backend\n",
    "\n",
    "num_qubits = 3\n",
    "depth = 2\n",
    "X = np.array([[1, 1, 1], [0, 1, 1]])\n",
    "Y = np.array([0.2, 0.8])\n",
    "\n",
    "ansatz = QCBMAnsatz(num_qubits, depth)\n",
    "\n",
    "options = {\n",
    "    'maxiter': 1,   # Maximum number of iterations\n",
    "    'tol': 1e-6,      # Tolerance for termination\n",
    "    'disp': True      # Display convergence messages\n",
    "}\n",
    "\n",
    "optimizer = ScipyOptimizer(method='COBYLA', options=options)\n",
    "\n",
    "qcbm = SingleBasisQCBM(ansatz, optimizer)\n",
    "\n",
    "n_epochs = 1\n",
    "\n",
    "# Start a session\n",
    "with Session(service=service, backend=backend) as session:\n",
    "    sampler = Sampler(session=session)\n",
    "    result = qcbm.train_on_batch(X, Y, sampler, backend, n_epochs)\n",
    "    num_samples = 1000\n",
    "    unique_samples, probabilities = qcbm.generate(num_samples, sampler, backend)\n",
    "    for sample, prob in zip(unique_samples, probabilities):\n",
    "        print(f\"Sample: {sample}, Probability: {prob}\")\n",
    "\n",
    "\n",
    "\n",
    "\n",
    "\n"
   ]
  },
  {
   "cell_type": "code",
   "execution_count": 18,
   "metadata": {},
   "outputs": [
    {
     "name": "stderr",
     "output_type": "stream",
     "text": [
      "/var/folders/01/9cxlhzln35j3j4d6wdv8jmmw0000gp/T/ipykernel_2727/3958206110.py:2: DeprecationWarning: The Sampler and Estimator V1 primitives have been deprecated as of qiskit-ibm-runtime 0.23.0 and will be removed no sooner than 3 months after the release date. Please use the V2 Primitives. See the `V2 migration guide <https://docs.quantum.ibm.com/api/migration-guides/v2-primitives>`_. for more details\n",
      "  sampler = Sampler(session=session)\n"
     ]
    },
    {
     "name": "stdout",
     "output_type": "stream",
     "text": [
      "[[0 0 0]\n",
      " [0 0 0]\n",
      " [0 0 0]\n",
      " ...\n",
      " [1 1 1]\n",
      " [1 1 1]\n",
      " [1 1 1]]\n"
     ]
    }
   ],
   "source": [
    "with Session(service=service, backend=backend) as session:\n",
    "    sampler = Sampler(session=session)\n",
    "    samples = qcbm.generate(num_samples, sampler, backend)\n",
    "    print(samples)"
   ]
  },
  {
   "cell_type": "code",
   "execution_count": 6,
   "metadata": {},
   "outputs": [
    {
     "data": {
      "image/png": "[encoded data removed]",
      "text/plain": [
       "<Figure size 1040x451.5 with 1 Axes>"
      ]
     },
     "execution_count": 6,
     "metadata": {},
     "output_type": "execute_result"
    }
   ],
   "source": [
    "ansatz = QCBMAnsatz(4, 2)\n",
    "ansatz.qc.draw(output=\"mpl\")"
   ]
  }
 ],
 "metadata": {
  "kernelspec": {
   "display_name": "qcbm-ibmq",
   "language": "python",
   "name": "python3"
  },
  "language_info": {
   "codemirror_mode": {
    "name": "ipython",
    "version": 3
   },
   "file_extension": ".py",
   "mimetype": "text/x-python",
   "name": "python",
   "nbconvert_exporter": "python",
   "pygments_lexer": "ipython3",
   "version": "3.11.9"
  }
 },
 "nbformat": 4,
 "nbformat_minor": 2
}
